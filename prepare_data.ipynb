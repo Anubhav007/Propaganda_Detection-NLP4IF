{
  "nbformat": 4,
  "nbformat_minor": 0,
  "metadata": {
    "colab": {
      "name": "prepare_data.ipynb",
      "version": "0.3.2",
      "provenance": [],
      "collapsed_sections": []
    },
    "kernelspec": {
      "name": "python3",
      "display_name": "Python 3"
    },
    "accelerator": "GPU"
  },
  "cells": [
    {
      "cell_type": "code",
      "metadata": {
        "id": "B6cRyL51WYyS",
        "colab_type": "code",
        "colab": {
          "base_uri": "https://localhost:8080/",
          "height": 121
        },
        "outputId": "a342732d-cb31-4c04-dcd1-84557bd9b744"
      },
      "source": [
        "from google.colab import drive\n",
        "drive.mount('/content/drive')"
      ],
      "execution_count": 1,
      "outputs": [
        {
          "output_type": "stream",
          "text": [
            "Go to this URL in a browser: https://accounts.google.com/o/oauth2/auth?client_id=947318989803-6bn6qk8qdgf4n4g3pfee6491hc0brc4i.apps.googleusercontent.com&redirect_uri=urn%3Aietf%3Awg%3Aoauth%3A2.0%3Aoob&scope=email%20https%3A%2F%2Fwww.googleapis.com%2Fauth%2Fdocs.test%20https%3A%2F%2Fwww.googleapis.com%2Fauth%2Fdrive%20https%3A%2F%2Fwww.googleapis.com%2Fauth%2Fdrive.photos.readonly%20https%3A%2F%2Fwww.googleapis.com%2Fauth%2Fpeopleapi.readonly&response_type=code\n",
            "\n",
            "Enter your authorization code:\n",
            "··········\n",
            "Mounted at /content/drive\n"
          ],
          "name": "stdout"
        }
      ]
    },
    {
      "cell_type": "code",
      "metadata": {
        "id": "WBDP-2cEWZUg",
        "colab_type": "code",
        "colab": {}
      },
      "source": [
        "from pathlib import Path\n",
        "import numpy as np\n",
        "import pandas as pd\n",
        "import os"
      ],
      "execution_count": 0,
      "outputs": []
    },
    {
      "cell_type": "code",
      "metadata": {
        "id": "AQn1-9kMaRVB",
        "colab_type": "code",
        "colab": {}
      },
      "source": [
        "train_folder = \"/content/drive/My Drive/emnlp/datasets/train-articles\" # check that the path to the datasets folder is correct,\n",
        "dev_folder = \"/content/drive/My Drive/emnlp/datasets/dev-articles\"     # if not adjust these variables accordingly\n",
        "train_labels_folder = \"/content/drive/My Drive/emnlp/datasets/train-labels-SLC\"\n",
        "dev_template_labels_file = \"/content/drive/My Drive/emnlp/datasets/dev.template-output-SLC.out\"\n"
      ],
      "execution_count": 0,
      "outputs": []
    },
    {
      "cell_type": "code",
      "metadata": {
        "id": "klJ3sQsCo5AX",
        "colab_type": "code",
        "colab": {}
      },
      "source": [
        "dev_template_labels_file = \"/content/drive/My Drive/emnlp/datasets/dev-template-output-SLC\""
      ],
      "execution_count": 0,
      "outputs": []
    },
    {
      "cell_type": "code",
      "metadata": {
        "id": "FHBBTOudhE-A",
        "colab_type": "code",
        "colab": {
          "base_uri": "https://localhost:8080/",
          "height": 34
        },
        "outputId": "28c7751e-321e-411d-9951-95bf9001beb2"
      },
      "source": [
        "len(os.listdir(train_folder)),len(os.listdir(train_labels_folder))"
      ],
      "execution_count": 36,
      "outputs": [
        {
          "output_type": "execute_result",
          "data": {
            "text/plain": [
              "(350, 350)"
            ]
          },
          "metadata": {
            "tags": []
          },
          "execution_count": 36
        }
      ]
    },
    {
      "cell_type": "code",
      "metadata": {
        "id": "pFMjb8vDXygo",
        "colab_type": "code",
        "colab": {}
      },
      "source": [
        "import glob\n",
        "import os.path\n",
        "import numpy as np\n",
        "import sys\n",
        "\n",
        "\n",
        "def read_articles_from_file_list(folder_name, file_pattern=\"*.txt\"):\n",
        "    \n",
        "    file_list = glob.glob(os.path.join(folder_name, file_pattern))\n",
        "    article_id_list, sentence_id_list, sentence_list = ([], [], [])\n",
        "    for filename in sorted(file_list):\n",
        "        article_id = os.path.basename(filename).split(\".\")[0][7:]\n",
        "        with open(filename, \"r\", encoding=\"utf-8\") as f:\n",
        "            for sentence_id, row in enumerate(f.readlines(), 1):\n",
        "                sentence_list.append(row.rstrip())\n",
        "                article_id_list.append(article_id)\n",
        "                sentence_id_list.append(str(sentence_id))\n",
        "\n",
        "    return article_id_list, sentence_id_list, sentence_list\n",
        "\n",
        "\n",
        "def are_ids_aligned(article_id_list, sentence_id_list,\n",
        "                    reference_article_id_list, reference_sentence_id_list):\n",
        "    \"\"\"\n",
        "    check whether the two lists of ids of the articles and the sentences are aligned\n",
        "    \"\"\"\n",
        "    for art, ref_art, sent, ref_sent in zip(article_id_list, reference_article_id_list,\n",
        "                                            sentence_id_list, reference_sentence_id_list):\n",
        "        if art != ref_art:\n",
        "            print(\"ERROR: article ids do not match: article id = %s, reference article id = %s\"%(art, ref_art))\n",
        "            return False\n",
        "        if sent != ref_sent:\n",
        "            print(\"ERROR: sentence ids do not match: article id:%s,%s sentence id:%s,%s\" %(art, ref_art, sent, ref_sent))\n",
        "            return False\n",
        "    return True\n",
        "\n",
        "\n",
        "def read_predictions_from_file(filename):\n",
        "   \n",
        "    articles_id, sentence_id_list, gold_labels = ([], [], [])\n",
        "    with open(filename, \"r\") as f:\n",
        "        for row in f.readlines():\n",
        "            article_id, sentence_id, gold_label = row.rstrip().split(\"\\t\")\n",
        "            articles_id.append(article_id)\n",
        "            sentence_id_list.append(sentence_id)\n",
        "            gold_labels.append(gold_label)\n",
        "    return articles_id, sentence_id_list, gold_labels\n",
        "\n",
        "\n",
        "def read_predictions_from_file_list(folder_name, file_pattern):\n",
        "    gold_file_list = glob.glob(os.path.join(folder_name, file_pattern))\n",
        "    articles_id, sentence_id_list, gold_labels = ([], [], [])\n",
        "    for filename in sorted(gold_file_list):\n",
        "        art_ids, sent_ids, golds = read_predictions_from_file(filename)\n",
        "        articles_id += art_ids\n",
        "        sentence_id_list += sent_ids\n",
        "        gold_labels += golds\n",
        "    return articles_id, sentence_id_list, gold_labels\n"
      ],
      "execution_count": 0,
      "outputs": []
    },
    {
      "cell_type": "code",
      "metadata": {
        "id": "r1RIUxRSeLMc",
        "colab_type": "code",
        "colab": {}
      },
      "source": [
        "\n",
        "# loading articles' content from *.txt files in the train folder\n",
        "train_article_ids, train_sentence_ids, sentence_list = read_articles_from_file_list(train_folder)\n",
        "\n",
        "# loading gold labels, articles ids and sentence ids from files *.task-SLC.labels in the train labels folder\n",
        "reference_articles_id, reference_sentence_id_list, gold_labels = read_predictions_from_file_list(\n",
        "    train_labels_folder, \"*.task-SLC.labels\")\n"
      ],
      "execution_count": 0,
      "outputs": []
    },
    {
      "cell_type": "code",
      "metadata": {
        "id": "G8HL8glyultl",
        "colab_type": "code",
        "colab": {
          "base_uri": "https://localhost:8080/",
          "height": 34
        },
        "outputId": "3bd12469-a59f-4651-88a5-03ab37dc85b0"
      },
      "source": [
        "len(ds),len(gold_labels)"
      ],
      "execution_count": 85,
      "outputs": [
        {
          "output_type": "execute_result",
          "data": {
            "text/plain": [
              "(16965, 16965)"
            ]
          },
          "metadata": {
            "tags": []
          },
          "execution_count": 85
        }
      ]
    },
    {
      "cell_type": "code",
      "metadata": {
        "id": "HSdWU_65t2Cn",
        "colab_type": "code",
        "colab": {}
      },
      "source": [
        "tdf=pd.DataFrame(list(zip(sentence_list,gold_labels)),columns=['sentence','labels'])\n",
        "tdf.to_csv('/content/drive/My Drive/emnlp/datasets/traindf.csv')"
      ],
      "execution_count": 0,
      "outputs": []
    },
    {
      "cell_type": "code",
      "metadata": {
        "id": "Jn2mhK5ZeTHv",
        "colab_type": "code",
        "colab": {
          "base_uri": "https://localhost:8080/",
          "height": 34
        },
        "outputId": "f6208b68-5b14-463f-f424-af17b533d985"
      },
      "source": [
        "len(train_article_ids),len(reference_articles_id)"
      ],
      "execution_count": 39,
      "outputs": [
        {
          "output_type": "execute_result",
          "data": {
            "text/plain": [
              "(16965, 16965)"
            ]
          },
          "metadata": {
            "tags": []
          },
          "execution_count": 39
        }
      ]
    },
    {
      "cell_type": "code",
      "metadata": {
        "id": "jaYBfdRelX14",
        "colab_type": "code",
        "colab": {}
      },
      "source": [
        "# checking that the number of sentences in the raw training set and the gold label file\n",
        "if not are_ids_aligned(train_article_ids, train_sentence_ids, reference_articles_id, reference_sentence_id_list):\n",
        "    sys.exit(\"Exiting: training set article ids and gold labels are not aligned\")\n",
        "print(\"Loaded %d sentences from %d articles\" % (len(sentence_list), len(set(train_article_ids))))"
      ],
      "execution_count": 0,
      "outputs": []
    },
    {
      "cell_type": "code",
      "metadata": {
        "id": "nUvEy7OLePeo",
        "colab_type": "code",
        "colab": {}
      },
      "source": [
        "dev_article_id_list, dev_sentence_id_list, dev_sentence_list = read_articles_from_file_list(dev_folder)\n",
        "reference_articles_id, reference_sentence_id_list, dev_labels = read_predictions_from_file(dev_template_labels_file)\n"
      ],
      "execution_count": 0,
      "outputs": []
    },
    {
      "cell_type": "code",
      "metadata": {
        "id": "njiGKBDQaVRo",
        "colab_type": "code",
        "colab": {
          "base_uri": "https://localhost:8080/",
          "height": 34
        },
        "outputId": "ae7d59ae-7be6-49d1-e7b5-a6164a3feaac"
      },
      "source": [
        "len(dev_article_id_list),len(reference_articles_id)"
      ],
      "execution_count": 42,
      "outputs": [
        {
          "output_type": "execute_result",
          "data": {
            "text/plain": [
              "(2235, 2235)"
            ]
          },
          "metadata": {
            "tags": []
          },
          "execution_count": 42
        }
      ]
    },
    {
      "cell_type": "code",
      "metadata": {
        "id": "VTfCRtmWm7er",
        "colab_type": "code",
        "colab": {}
      },
      "source": [
        "from sklearn.linear_model import LogisticRegression\n",
        "from sklearn.model_selection import train_test_split\n",
        "from sklearn.metrics import classification_report"
      ],
      "execution_count": 0,
      "outputs": []
    },
    {
      "cell_type": "code",
      "metadata": {
        "id": "vsNuSX2or2SY",
        "colab_type": "code",
        "colab": {}
      },
      "source": [
        "ds = np.array([ len(sentence) for sentence in sentence_list ]).reshape(-1, 1)\n",
        "gold_labels=np.array(gold_labels)"
      ],
      "execution_count": 0,
      "outputs": []
    },
    {
      "cell_type": "code",
      "metadata": {
        "id": "azEgppHl15dI",
        "colab_type": "code",
        "colab": {
          "base_uri": "https://localhost:8080/",
          "height": 34
        },
        "outputId": "2eb5aab5-0989-40b7-d42c-90edc882b97c"
      },
      "source": [
        "np.unique(gold_labels,return_counts=True)"
      ],
      "execution_count": 97,
      "outputs": [
        {
          "output_type": "execute_result",
          "data": {
            "text/plain": [
              "(array(['non-propaganda', 'propaganda'], dtype='<U14'), array([12245,  4720]))"
            ]
          },
          "metadata": {
            "tags": []
          },
          "execution_count": 97
        }
      ]
    },
    {
      "cell_type": "code",
      "metadata": {
        "id": "muG9mtBXr3Po",
        "colab_type": "code",
        "colab": {
          "base_uri": "https://localhost:8080/",
          "height": 34
        },
        "outputId": "d28e08ca-57a3-4796-f880-475523f14fe4"
      },
      "source": [
        "X_train,X_test, y_train,y_test=train_test_split(ds,gold_labels,random_state=42)\n",
        "X_train.shape,X_test.shape,y_train.shape,y_test.shape"
      ],
      "execution_count": 94,
      "outputs": [
        {
          "output_type": "execute_result",
          "data": {
            "text/plain": [
              "((12723, 1), (4242, 1), (12723,), (4242,))"
            ]
          },
          "metadata": {
            "tags": []
          },
          "execution_count": 94
        }
      ]
    },
    {
      "cell_type": "code",
      "metadata": {
        "id": "8Y_g58_8sTA5",
        "colab_type": "code",
        "colab": {
          "base_uri": "https://localhost:8080/",
          "height": 103
        },
        "outputId": "234b8fd1-0157-4a18-d3df-e6d3c5377e30"
      },
      "source": [
        "# compute one feature for each sentence: the length of the sentence and train the model\n",
        "model = LogisticRegression(penalty='l2', class_weight='balanced', solver=\"lbfgs\")\n",
        "model.fit(X_train, y_train)"
      ],
      "execution_count": 95,
      "outputs": [
        {
          "output_type": "execute_result",
          "data": {
            "text/plain": [
              "LogisticRegression(C=1.0, class_weight='balanced', dual=False,\n",
              "                   fit_intercept=True, intercept_scaling=1, l1_ratio=None,\n",
              "                   max_iter=100, multi_class='warn', n_jobs=None, penalty='l2',\n",
              "                   random_state=None, solver='lbfgs', tol=0.0001, verbose=0,\n",
              "                   warm_start=False)"
            ]
          },
          "metadata": {
            "tags": []
          },
          "execution_count": 95
        }
      ]
    },
    {
      "cell_type": "code",
      "metadata": {
        "id": "VDBh3tqQsULr",
        "colab_type": "code",
        "colab": {
          "base_uri": "https://localhost:8080/",
          "height": 171
        },
        "outputId": "8a77c7ac-41ff-453a-91f5-2c91591322cd"
      },
      "source": [
        "test_preds=model.predict(X_test)\n",
        "print (classification_report(y_test,test_preds))"
      ],
      "execution_count": 96,
      "outputs": [
        {
          "output_type": "stream",
          "text": [
            "                precision    recall  f1-score   support\n",
            "\n",
            "non-propaganda       0.78      0.67      0.72      3035\n",
            "    propaganda       0.39      0.53      0.45      1207\n",
            "\n",
            "      accuracy                           0.63      4242\n",
            "     macro avg       0.59      0.60      0.59      4242\n",
            "  weighted avg       0.67      0.63      0.64      4242\n",
            "\n"
          ],
          "name": "stdout"
        }
      ]
    },
    {
      "cell_type": "code",
      "metadata": {
        "id": "m6EV9mZxlx_M",
        "colab_type": "code",
        "colab": {}
      },
      "source": [
        "# reading data from the development set\n",
        "dev_article_id_list, dev_sentence_id_list, dev_sentence_list = read_articles_from_file_list(dev_folder)\n",
        "reference_articles_id, reference_sentence_id_list, dev_labels = read_predictions_from_file(dev_template_labels_file)\n",
        "if not are_ids_aligned(dev_article_id_list, dev_sentence_id_list, reference_articles_id, reference_sentence_id_list):\n",
        "    sys.exit(\"Exiting: development set article ids and gold labels are not aligned\")\n",
        "\n",
        "# computing the predictions on the development set\n",
        "dev = np.array([ len(sentence) for sentence in dev_sentence_list ]).reshape(-1, 1)\n",
        "predictions = model.predict(dev)"
      ],
      "execution_count": 0,
      "outputs": []
    },
    {
      "cell_type": "code",
      "metadata": {
        "id": "avStlJvanwws",
        "colab_type": "code",
        "colab": {}
      },
      "source": [
        "task_SLC_output_file = \"/content/drive/My Drive/emnlp/baseline-output-SLC1.txt\"\n",
        "# writing predictions to file\n",
        "with open(task_SLC_output_file, \"w\") as fout:\n",
        "    for article_id, sentence_id, prediction in zip(dev_article_id_list, dev_sentence_id_list, predictions):\n",
        "        fout.write(\"%s\\t%s\\t%s\\n\" % (article_id, sentence_id, prediction))\n",
        "print(\"Predictions written to file \" + task_SLC_output_file)"
      ],
      "execution_count": 0,
      "outputs": []
    }
  ]
}